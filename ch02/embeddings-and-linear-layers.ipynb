{
 "cells": [
  {
   "cell_type": "code",
   "execution_count": null,
   "id": "e98e452f-7608-4c0c-a7e5-68a3e3087c39",
   "metadata": {},
   "outputs": [],
   "source": [
    "    # Adapted from https://github.com/rasbt/LLMs-from-scratch/blob/main/ch02/03_bonus_embedding-vs-matmul/embeddings-and-linear-layers.ipynb"
   ]
  },
  {
   "cell_type": "code",
   "execution_count": 1,
   "id": "37fbf321-a8a5-4a58-9086-219bd581627c",
   "metadata": {
    "tags": []
   },
   "outputs": [],
   "source": [
    "import numpy as np\n",
    "import os\n",
    "os.environ['TF_CPP_MIN_LOG_LEVEL'] = '3'\n",
    "import tensorflow as tf"
   ]
  },
  {
   "cell_type": "code",
   "execution_count": 2,
   "id": "ef0420c8-ee84-4941-b201-b62ffa7cf1c6",
   "metadata": {
    "tags": []
   },
   "outputs": [],
   "source": [
    "# Suppose we have the following 3 training examples,\n",
    "# which may represent token IDs in a LLM context\n",
    "idx = tf.constant([2, 3, 1])\n",
    "\n",
    "# The number of rows in the embedding matrix can be determined\n",
    "# by obtaining the largest token ID + 1.\n",
    "# If the highest token ID is 3, then we want 4 rows, for the possible\n",
    "# token IDs 0, 1, 2, 3\n",
    "num_idx = tf.reduce_max(idx) + 1\n",
    "\n",
    "# # The desired embedding dimension is a hyperparameter\n",
    "out_dim = 5"
   ]
  },
  {
   "cell_type": "code",
   "execution_count": 36,
   "id": "0401f91e-4bcb-4f28-b754-bf307f90e86f",
   "metadata": {
    "tags": []
   },
   "outputs": [
    {
     "name": "stdout",
     "output_type": "stream",
     "text": [
      "embedding weights:\n",
      " [array([[0.  , 0.  , 0.  , 0.  , 0.  ],\n",
      "       [0.11, 0.11, 0.11, 0.11, 0.11],\n",
      "       [0.22, 0.22, 0.22, 0.22, 0.22],\n",
      "       [0.33, 0.33, 0.33, 0.33, 0.33]], dtype=float32)] <class 'numpy.ndarray'>\n"
     ]
    }
   ],
   "source": [
    "tf.random.set_seed(123)\n",
    "fake_weights = np.array([\n",
    "  [0.00, 0.00, 0.00, 0.00, 0.00], # 0\n",
    "  [0.11, 0.11, 0.11, 0.11, 0.11], # 1\n",
    "  [0.22, 0.22, 0.22, 0.22, 0.22], # 2\n",
    "  [0.33, 0.33, 0.33, 0.33, 0.33], # 3\n",
    "])\n",
    "# np_weights = np.array(fake_weights)\n",
    "# https://www.tensorflow.org/api_docs/python/tf/keras/layers/Embedding\n",
    "embedding = tf.keras.layers.Embedding(name='my_embedding', input_dim=num_idx, output_dim=out_dim , weights=[fake_weights])\n",
    "model = tf.keras.Sequential([embedding])\n",
    "model.compile()\n",
    "print(\"embedding weights:\\n\", embedding.get_weights(), type(embedding.get_weights()[0]))"
   ]
  },
  {
   "cell_type": "code",
   "execution_count": 37,
   "id": "2a8ca3aa-7aec-4fb5-8cdb-c97040acba05",
   "metadata": {
    "tags": []
   },
   "outputs": [
    {
     "data": {
      "text/plain": [
       "<tf.Tensor: shape=(3, 5), dtype=float32, numpy=\n",
       "array([[0.22, 0.22, 0.22, 0.22, 0.22],\n",
       "       [0.33, 0.33, 0.33, 0.33, 0.33],\n",
       "       [0.11, 0.11, 0.11, 0.11, 0.11]], dtype=float32)>"
      ]
     },
     "execution_count": 37,
     "metadata": {},
     "output_type": "execute_result"
    }
   ],
   "source": [
    "embedding(idx)"
   ]
  },
  {
   "cell_type": "code",
   "execution_count": 38,
   "id": "062f5976-ad20-4f66-b450-342eb00ea92c",
   "metadata": {
    "tags": []
   },
   "outputs": [
    {
     "name": "stdout",
     "output_type": "stream",
     "text": [
      "onehot:\n",
      " tf.Tensor(\n",
      "[[0. 0. 1. 0.]\n",
      " [0. 0. 0. 1.]\n",
      " [0. 1. 0. 0.]], shape=(3, 4), dtype=float32)\n"
     ]
    }
   ],
   "source": [
    "onehot = tf.one_hot(idx, num_idx)\n",
    "print(\"onehot:\\n\", onehot)"
   ]
  },
  {
   "cell_type": "code",
   "execution_count": 53,
   "id": "90da71fa-8344-4922-8670-43d946e3a912",
   "metadata": {
    "tags": []
   },
   "outputs": [
    {
     "data": {
      "text/plain": [
       "[array([[0.  , 0.  , 0.  , 0.  , 0.  ],\n",
       "        [0.11, 0.11, 0.11, 0.11, 0.11],\n",
       "        [0.22, 0.22, 0.22, 0.22, 0.22],\n",
       "        [0.33, 0.33, 0.33, 0.33, 0.33]], dtype=float32)]"
      ]
     },
     "execution_count": 53,
     "metadata": {},
     "output_type": "execute_result"
    }
   ],
   "source": [
    "linear = tf.keras.layers.Dense(name='my_dense', units=out_dim, use_bias=False, input_shape=(3,4), weights=[fake_weights])\n",
    "model = tf.keras.Sequential([linear])\n",
    "model.compile()\n",
    "linear.get_weights()"
   ]
  },
  {
   "cell_type": "code",
   "execution_count": 51,
   "id": "ad32d1b8-a8a4-4c95-a9d5-93f0528419f3",
   "metadata": {
    "tags": []
   },
   "outputs": [
    {
     "data": {
      "text/plain": [
       "<tf.Tensor: shape=(3, 5), dtype=float32, numpy=\n",
       "array([[0.22, 0.22, 0.22, 0.22, 0.22],\n",
       "       [0.33, 0.33, 0.33, 0.33, 0.33],\n",
       "       [0.11, 0.11, 0.11, 0.11, 0.11]], dtype=float32)>"
      ]
     },
     "execution_count": 51,
     "metadata": {},
     "output_type": "execute_result"
    }
   ],
   "source": [
    "linear(onehot)"
   ]
  },
  {
   "cell_type": "code",
   "execution_count": null,
   "id": "d2687b24-28c9-427c-9fda-c602a8031324",
   "metadata": {},
   "outputs": [],
   "source": []
  }
 ],
 "metadata": {
  "kernelspec": {
   "display_name": "Python 3 (ipykernel)",
   "language": "python",
   "name": "python3"
  },
  "language_info": {
   "codemirror_mode": {
    "name": "ipython",
    "version": 3
   },
   "file_extension": ".py",
   "mimetype": "text/x-python",
   "name": "python",
   "nbconvert_exporter": "python",
   "pygments_lexer": "ipython3",
   "version": "3.11.7"
  }
 },
 "nbformat": 4,
 "nbformat_minor": 5
}
