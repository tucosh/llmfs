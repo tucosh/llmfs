{
 "cells": [
  {
   "cell_type": "code",
   "execution_count": 1,
   "id": "fe68e6e2-a5e6-4143-8eac-d9bef34ffb81",
   "metadata": {
    "tags": []
   },
   "outputs": [],
   "source": [
    "import numpy as np\n",
    "import os\n",
    "os.environ['TF_CPP_MIN_LOG_LEVEL'] = '3'\n",
    "import tensorflow as tf\n",
    "from gpt2 import Embedding\n"
   ]
  },
  {
   "cell_type": "code",
   "execution_count": 2,
   "id": "04b0cf65-fd5e-49a1-8879-ef764a68fdeb",
   "metadata": {
    "tags": []
   },
   "outputs": [],
   "source": [
    "# 124M/hparams.json\n",
    "config124M ={\n",
    "  \"n_vocab\": 50257,\n",
    "  \"n_ctx\": 1024,\n",
    "  \"n_embd\": 768,\n",
    "  \"n_head\": 12,\n",
    "  \"n_layer\": 12\n",
    "}"
   ]
  },
  {
   "cell_type": "code",
   "execution_count": 3,
   "id": "982ffbdf-76ec-4cd3-aece-330f531f2048",
   "metadata": {
    "tags": []
   },
   "outputs": [],
   "source": [
    "config ={\n",
    "  \"n_vocab\": 10,\n",
    "  \"n_ctx\": 1024,\n",
    "  \"n_embd\": 5,\n",
    "  \"n_head\": 12,\n",
    "  \"n_layer\": 12\n",
    "}"
   ]
  },
  {
   "cell_type": "code",
   "execution_count": 9,
   "id": "1424a148-130b-4c0f-a39c-907ecee0d2d4",
   "metadata": {
    "tags": []
   },
   "outputs": [],
   "source": [
    "embedding = Embedding(\n",
    "            embedding_size=config['n_embd'],\n",
    "            vocab_size=config['n_vocab'],\n",
    "            max_position_length=config['n_ctx'],\n",
    "            name=\"embedding\",\n",
    "            dtype=None\n",
    "        )"
   ]
  },
  {
   "cell_type": "code",
   "execution_count": 10,
   "id": "0e92341d-db7a-4c0b-bd12-676b76a7f276",
   "metadata": {
    "tags": []
   },
   "outputs": [
    {
     "data": {
      "text/plain": [
       "{'name': 'embedding',\n",
       " 'trainable': True,\n",
       " 'dtype': None,\n",
       " 'embedding_size': 5,\n",
       " 'vocab_size': 10,\n",
       " 'max_position_length': 1024}"
      ]
     },
     "execution_count": 10,
     "metadata": {},
     "output_type": "execute_result"
    }
   ],
   "source": [
    "embedding.get_config()"
   ]
  },
  {
   "cell_type": "code",
   "execution_count": 17,
   "id": "cccec8cb-0e18-42d0-96db-2e6416cc4e2b",
   "metadata": {
    "tags": []
   },
   "outputs": [
    {
     "data": {
      "text/plain": [
       "<tf.Tensor: shape=(1, 1, 5), dtype=float32, numpy=\n",
       "array([[[ 0.00894326,  0.01083773,  0.00283086, -0.00418214,\n",
       "         -0.00842665]]], dtype=float32)>"
      ]
     },
     "execution_count": 17,
     "metadata": {},
     "output_type": "execute_result"
    }
   ],
   "source": [
    "input=tf.constant([[10000008]])\n",
    "embedding(input)"
   ]
  },
  {
   "cell_type": "code",
   "execution_count": 2,
   "id": "3e189fb3-a0af-4c2d-be07-c492833f6745",
   "metadata": {
    "tags": []
   },
   "outputs": [],
   "source": [
    "from builder import build"
   ]
  },
  {
   "cell_type": "code",
   "execution_count": 3,
   "id": "8baadd1d-745e-4dfe-b956-6a2768d9620b",
   "metadata": {
    "tags": []
   },
   "outputs": [],
   "source": [
    "config = \"ch05/01_main-chapter-code/gpt2/124M/hparams.json\"\n",
    "checkpoint =\" ch05/01_main-chapter-code/gpt2/124M/model.ckpt\""
   ]
  },
  {
   "cell_type": "code",
   "execution_count": 4,
   "id": "1eabdb3d-01aa-4027-972f-81caea9c270f",
   "metadata": {
    "tags": []
   },
   "outputs": [
    {
     "ename": "AttributeError",
     "evalue": "'int' object has no attribute 'value'",
     "output_type": "error",
     "traceback": [
      "\u001b[0;31m---------------------------------------------------------------------------\u001b[0m",
      "\u001b[0;31mAttributeError\u001b[0m                            Traceback (most recent call last)",
      "Cell \u001b[0;32mIn[4], line 1\u001b[0m\n\u001b[0;32m----> 1\u001b[0m model \u001b[38;5;241m=\u001b[39m \u001b[43mbuild\u001b[49m\u001b[43m(\u001b[49m\u001b[43mconfig\u001b[49m\u001b[38;5;241;43m=\u001b[39;49m\u001b[43mconfig\u001b[49m\u001b[43m,\u001b[49m\u001b[43m \u001b[49m\u001b[43mcheckpoint_path\u001b[49m\u001b[38;5;241;43m=\u001b[39;49m\u001b[43mcheckpoint\u001b[49m\u001b[43m,\u001b[49m\u001b[43m \u001b[49m\u001b[43mname\u001b[49m\u001b[38;5;241;43m=\u001b[39;49m\u001b[38;5;124;43m\"\u001b[39;49m\u001b[38;5;124;43mbert\u001b[39;49m\u001b[38;5;124;43m\"\u001b[39;49m\u001b[43m)\u001b[49m\n",
      "File \u001b[0;32m/notebooks/llmfs/builder.py:141\u001b[0m, in \u001b[0;36mbuild\u001b[0;34m(config, checkpoint_path, session, name)\u001b[0m\n\u001b[1;32m    139\u001b[0m \u001b[38;5;66;03m# hparams.override_from_dict(config)\u001b[39;00m\n\u001b[1;32m    140\u001b[0m hparams\u001b[38;5;241m.\u001b[39mupdate(config)\n\u001b[0;32m--> 141\u001b[0m _ \u001b[38;5;241m=\u001b[39m \u001b[43moriginal_gpt2\u001b[49m\u001b[38;5;241;43m.\u001b[39;49m\u001b[43mmodel\u001b[49m\u001b[43m(\u001b[49m\u001b[43mhparams\u001b[49m\u001b[43m,\u001b[49m\u001b[43m \u001b[49m\u001b[43mx\u001b[49m\u001b[43m)\u001b[49m\n\u001b[1;32m    142\u001b[0m original_weights \u001b[38;5;241m=\u001b[39m tf\u001b[38;5;241m.\u001b[39mglobal_variables()\n\u001b[1;32m    143\u001b[0m original_weights \u001b[38;5;241m=\u001b[39m ReArrange\u001b[38;5;241m.\u001b[39mGPT2(original_weights)\n",
      "File \u001b[0;32m/notebooks/llmfs/original_gpt2.py:174\u001b[0m, in \u001b[0;36mmodel\u001b[0;34m(hparams, X, past, scope, reuse)\u001b[0m\n\u001b[1;32m    172\u001b[0m \u001b[38;5;28;01massert\u001b[39;00m \u001b[38;5;28mlen\u001b[39m(pasts) \u001b[38;5;241m==\u001b[39m hparams[\u001b[38;5;124m'\u001b[39m\u001b[38;5;124mn_layer\u001b[39m\u001b[38;5;124m'\u001b[39m]\n\u001b[1;32m    173\u001b[0m \u001b[38;5;28;01mfor\u001b[39;00m layer, past \u001b[38;5;129;01min\u001b[39;00m \u001b[38;5;28menumerate\u001b[39m(pasts):\n\u001b[0;32m--> 174\u001b[0m     h, present \u001b[38;5;241m=\u001b[39m \u001b[43mblock\u001b[49m\u001b[43m(\u001b[49m\u001b[43mh\u001b[49m\u001b[43m,\u001b[49m\u001b[43m \u001b[49m\u001b[38;5;124;43m'\u001b[39;49m\u001b[38;5;124;43mh\u001b[39;49m\u001b[38;5;132;43;01m%d\u001b[39;49;00m\u001b[38;5;124;43m'\u001b[39;49m\u001b[43m \u001b[49m\u001b[38;5;241;43m%\u001b[39;49m\u001b[43m \u001b[49m\u001b[43mlayer\u001b[49m\u001b[43m,\u001b[49m\u001b[43m \u001b[49m\u001b[43mpast\u001b[49m\u001b[38;5;241;43m=\u001b[39;49m\u001b[43mpast\u001b[49m\u001b[43m,\u001b[49m\u001b[43m \u001b[49m\u001b[43mhparams\u001b[49m\u001b[38;5;241;43m=\u001b[39;49m\u001b[43mhparams\u001b[49m\u001b[43m)\u001b[49m\n\u001b[1;32m    175\u001b[0m     presents\u001b[38;5;241m.\u001b[39mappend(present)\n\u001b[1;32m    176\u001b[0m results[\u001b[38;5;124m'\u001b[39m\u001b[38;5;124mpresent\u001b[39m\u001b[38;5;124m'\u001b[39m] \u001b[38;5;241m=\u001b[39m tf\u001b[38;5;241m.\u001b[39mstack(presents, axis\u001b[38;5;241m=\u001b[39m\u001b[38;5;241m1\u001b[39m)\n",
      "File \u001b[0;32m/notebooks/llmfs/original_gpt2.py:135\u001b[0m, in \u001b[0;36mblock\u001b[0;34m(x, scope, past, hparams)\u001b[0m\n\u001b[1;32m    133\u001b[0m \u001b[38;5;28;01mdef\u001b[39;00m \u001b[38;5;21mblock\u001b[39m(x, scope, \u001b[38;5;241m*\u001b[39m, past, hparams):\n\u001b[1;32m    134\u001b[0m     \u001b[38;5;28;01mwith\u001b[39;00m tf\u001b[38;5;241m.\u001b[39mcompat\u001b[38;5;241m.\u001b[39mv1\u001b[38;5;241m.\u001b[39mvariable_scope(scope):\n\u001b[0;32m--> 135\u001b[0m         nx \u001b[38;5;241m=\u001b[39m \u001b[43mx\u001b[49m\u001b[38;5;241;43m.\u001b[39;49m\u001b[43mshape\u001b[49m\u001b[43m[\u001b[49m\u001b[38;5;241;43m-\u001b[39;49m\u001b[38;5;241;43m1\u001b[39;49m\u001b[43m]\u001b[49m\u001b[38;5;241;43m.\u001b[39;49m\u001b[43mvalue\u001b[49m\n\u001b[1;32m    136\u001b[0m         a, present \u001b[38;5;241m=\u001b[39m attn(norm(x, \u001b[38;5;124m'\u001b[39m\u001b[38;5;124mln_1\u001b[39m\u001b[38;5;124m'\u001b[39m), \u001b[38;5;124m'\u001b[39m\u001b[38;5;124mattn\u001b[39m\u001b[38;5;124m'\u001b[39m, nx, past\u001b[38;5;241m=\u001b[39mpast, hparams\u001b[38;5;241m=\u001b[39mhparams)\n\u001b[1;32m    137\u001b[0m         x \u001b[38;5;241m=\u001b[39m x \u001b[38;5;241m+\u001b[39m a\n",
      "\u001b[0;31mAttributeError\u001b[0m: 'int' object has no attribute 'value'"
     ]
    }
   ],
   "source": [
    "model = build(config=config, checkpoint_path=checkpoint, name=\"bert\")"
   ]
  },
  {
   "cell_type": "code",
   "execution_count": null,
   "id": "e5542257-614f-423f-aaab-2001a5e8cba1",
   "metadata": {},
   "outputs": [],
   "source": []
  }
 ],
 "metadata": {
  "kernelspec": {
   "display_name": "Python 3 (ipykernel)",
   "language": "python",
   "name": "python3"
  },
  "language_info": {
   "codemirror_mode": {
    "name": "ipython",
    "version": 3
   },
   "file_extension": ".py",
   "mimetype": "text/x-python",
   "name": "python",
   "nbconvert_exporter": "python",
   "pygments_lexer": "ipython3",
   "version": "3.11.7"
  }
 },
 "nbformat": 4,
 "nbformat_minor": 5
}
